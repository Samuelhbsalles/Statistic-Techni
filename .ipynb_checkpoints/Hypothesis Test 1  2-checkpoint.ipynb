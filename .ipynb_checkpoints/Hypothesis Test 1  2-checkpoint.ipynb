{
 "cells": [
  {
   "cell_type": "markdown",
   "id": "ce4c79c4",
   "metadata": {},
   "source": [
    "## Hypothesis Test 1\n",
    "\n",
    "\n",
    "In order to perform the Hypothesis testing we need:\n",
    "\n",
    "1. State the null ($H_0$) and alternative ($H_A$) hypothesis.\n",
    "2. Find the critical value.\n",
    "3. Calculate a test statistic based on the data.\n",
    "4. Make a decision.\n",
    "5. Summerise the results.\n",
    "\n",
    "\n",
    "### One-sample t-test\n"
   ]
  },
  {
   "cell_type": "code",
   "execution_count": 1,
   "id": "6d55d6ba",
   "metadata": {},
   "outputs": [
    {
     "data": {
      "text/plain": [
       "array([26.43804669, 33.76883189, 29.77748461, 32.25906169, 36.72550854,\n",
       "       32.66168944, 36.7509395 , 34.30605687, 37.39342869, 24.77311435,\n",
       "       26.05505488, 23.69197027, 32.81423393, 28.78336874, 34.56870352,\n",
       "       31.58675461, 30.6365164 , 40.75191484, 33.03144328, 29.86614175,\n",
       "       25.07919609, 35.95352636, 34.76415306, 24.56409205, 29.27394334,\n",
       "       31.18928919, 21.80453294, 28.60932742, 36.9961921 , 21.92446018,\n",
       "       32.45435916, 39.46371109, 26.89510149, 27.73123809, 31.0872583 ,\n",
       "       32.57164428, 31.98620663, 22.43577442, 26.17983015, 30.50634893])"
      ]
     },
     "execution_count": 1,
     "metadata": {},
     "output_type": "execute_result"
    }
   ],
   "source": [
    "from numpy import random \n",
    "random.seed(13)\n",
    "outcome = random.normal(loc=30, scale=5, size=40)\n",
    "outcome"
   ]
  },
  {
   "cell_type": "code",
   "execution_count": 2,
   "id": "78ad2f01",
   "metadata": {},
   "outputs": [
    {
     "data": {
      "text/plain": [
       "30.702761244394896"
      ]
     },
     "execution_count": 2,
     "metadata": {},
     "output_type": "execute_result"
    }
   ],
   "source": [
    "outcome.mean()"
   ]
  },
  {
   "cell_type": "markdown",
   "id": "ffae5aa5",
   "metadata": {},
   "source": [
    "The sample mean is different from 30, but this not sufficient evidence for us to prove that the population mean is not 30. We need to perform a hypothesis.\n",
    "\n",
    "1. State the null ($H_0$) and alternative ($H_A$) hypothesis \n",
    "\n",
    "$H_0: \\mu = 30$ vs $H_A: \\mu \\neq 30$\n",
    "\n",
    "We should also decide the a level of significance, by default we will choose $\\alpha = 0.05$.\n"
   ]
  },
  {
   "cell_type": "markdown",
   "id": "a17a5fc6",
   "metadata": {},
   "source": [
    "2. Select the appropriate test to preform. \n",
    "A One-sample t-test is appropriate if we are being more conservative and not round the values to make calculations quicker.\n",
    "\n",
    "3. Run code (Test)"
   ]
  },
  {
   "cell_type": "code",
   "execution_count": 3,
   "id": "f39bf8bf",
   "metadata": {},
   "outputs": [
    {
     "data": {
      "text/plain": [
       "Ttest_1sampResult(statistic=0.9174340472708916, pvalue=0.3645541759696719)"
      ]
     },
     "execution_count": 3,
     "metadata": {},
     "output_type": "execute_result"
    }
   ],
   "source": [
    "# tpo perform the one sample t-test we imnport the ttest from scipy \n",
    "\n",
    "from scipy import stats \n",
    "\n",
    "#The one sample ttest takes in the data and sample mean \n",
    "stats.ttest_1samp(outcome, popmean=30)"
   ]
  },
  {
   "cell_type": "markdown",
   "id": "c6c4c6c8",
   "metadata": {},
   "source": [
    "The $\\alpha = 0.05$ and the returned p-value = 0.36.\n",
    "\n",
    "If the p-value $<$ $\\alpha$, we reject the $H_0$. if the p-value $\\nless$ $\\alpha$, we fail to reject the $H_0$."
   ]
  },
  {
   "cell_type": "code",
   "execution_count": 5,
   "id": "6d8e1d98",
   "metadata": {},
   "outputs": [
    {
     "name": "stdout",
     "output_type": "stream",
     "text": [
      "Test Statistic:  0.9174340472708916\n"
     ]
    }
   ],
   "source": [
    "#Performa  manual claculation to verify the functions output value\n",
    "# We need to evaluate (xbar - mu) / SE\n",
    "# also written as (xbar - mu) / (s/sqrt(n))\n",
    "\n",
    "import math\n",
    "import statistics\n",
    "\n",
    "xbar = outcome.mean() #Sample mean xbar \n",
    "s = statistics.stdev(outcome) # standard deviation from the data\n",
    "n = len(outcome) # size of the data\n",
    "mu = 30\n",
    "\n",
    "print(\"Test Statistic: \", (xbar - mu) / (s / math.sqrt(n)))"
   ]
  },
  {
   "cell_type": "markdown",
   "id": "f1ded8ac",
   "metadata": {},
   "source": [
    "4. Make a decision/ conclusion\n",
    "\n",
    "Since p-value $\\nless$ $\\alpha$, we fail to reject the $H_0$.\n",
    "\n",
    "\n",
    "\n",
    "5. Summerise the results \n",
    "\n",
    "Given our observation (and witha  signicance level of $\\alpha = 0.05$), we do not have enough evidence that the population mean $\\mu$ is different from 30.\n",
    "\n",
    "\n",
    "### Plot the Hypothesis results\n"
   ]
  },
  {
   "cell_type": "code",
   "execution_count": 8,
   "id": "c2fcda11",
   "metadata": {},
   "outputs": [
    {
     "data": {
      "text/plain": [
       "<matplotlib.lines.Line2D at 0x1d247d9dca0>"
      ]
     },
     "execution_count": 8,
     "metadata": {},
     "output_type": "execute_result"
    },
    {
     "data": {
      "image/png": "[encoded data removed]",
      "text/plain": [
       "<Figure size 432x288 with 1 Axes>"
      ]
     },
     "metadata": {
      "needs_background": "light"
     },
     "output_type": "display_data"
    }
   ],
   "source": [
    "#Import the libraries \n",
    "import matplotlib.pyplot as plt \n",
    "\n",
    "#create the result to chart\n",
    "#bins allows to group data poinrts based on ranges\n",
    "result = plt.hist(outcome, bins=7, color=\"c\", edgecolor=\"k\", alpha=0.65)# parameters for the histogram\n",
    "#add in the popmean and Mu to see how far off the mean the predicted value is \n",
    "plt.axvline(outcome.mean(), color=\"k\", linestyle=\"dashed\", linewidth=2)#this creates a verticle line for the expected mean value of the sample\n",
    "plt.axvline(mu, color=\"red\", linestyle=\"solid\", linewidth=2)#create the sample mean mu verticle line"
   ]
  },
  {
   "cell_type": "markdown",
   "id": "9757de71",
   "metadata": {},
   "source": [
    "### One Tailed test\n",
    "\n",
    "\n",
    "In order to perform a one tailed test we adjust the alternative, in this case the $H_A: \\mu > 30$. \n",
    "\n",
    "This means that we believe the has increased from the previous study."
   ]
  },
  {
   "cell_type": "code",
   "execution_count": 9,
   "id": "d5408d22",
   "metadata": {},
   "outputs": [
    {
     "data": {
      "text/plain": [
       "Ttest_1sampResult(statistic=0.9174340472708916, pvalue=0.18227708798483594)"
      ]
     },
     "execution_count": 9,
     "metadata": {},
     "output_type": "execute_result"
    }
   ],
   "source": [
    "# We run the same one test code but add an argument for the alternative\n",
    "stats.ttest_1samp(outcome, popmean=30, alternative=\"greater\")"
   ]
  },
  {
   "cell_type": "markdown",
   "id": "5221aafe",
   "metadata": {},
   "source": [
    "- What has changed?\n",
    "- What was the conclusion?\n",
    "- What do you notice about the p-value?"
   ]
  },
  {
   "cell_type": "code",
   "execution_count": 12,
   "id": "2c985bcc",
   "metadata": {},
   "outputs": [
    {
     "data": {
      "text/plain": [
       "5"
      ]
     },
     "execution_count": 12,
     "metadata": {},
     "output_type": "execute_result"
    }
   ],
   "source": [
    "#Test that 5 percent is actually being rejected \n",
    "import numpy as np \n",
    "random.seed(13)\n",
    "rvs = random.normal(size=(100, 50), loc=30, scale=5)#create a random variable to test the rejection rate given an alpha value \n",
    "res = stats.ttest_1samp(rvs, popmean=30, axis=1) #test  the sample against the mu value of 30 to see how much of it is being rejected \n",
    "np.sum(res.pvalue < 0.05)"
   ]
  },
  {
   "cell_type": "markdown",
   "id": "d9d37a89",
   "metadata": {},
   "source": [
    "### Two Sample Test \n",
    "\n",
    "\n",
    "In order for us to performt the Two-Sample test we need to construct 2 samples.\n",
    "\n"
   ]
  },
  {
   "cell_type": "code",
   "execution_count": 13,
   "id": "c69f237b",
   "metadata": {},
   "outputs": [],
   "source": [
    "import scipy.stats as stats\n",
    "import numpy as np \n",
    "\n",
    "\n",
    "#Create 2 samples\n",
    "\n",
    "group_1 = np.array([14,15,15,16,13,8,14,17,16,14,19])\n",
    "\n",
    "group_2 = np.array([15,17,14,17,17,8,12,19,19,14,17])"
   ]
  },
  {
   "cell_type": "markdown",
   "id": "277e00e7",
   "metadata": {},
   "source": [
    "Lets assume that we do not know where these come from.\n",
    "\n",
    "- We want to test a hjypothesis about the means\n",
    "- We suspect the population means of these two cohorts differ\n",
    "- We want to see if we have enough evidence to conclude this\n",
    "\n",
    "first thing is to find the sample means "
   ]
  },
  {
   "cell_type": "code",
   "execution_count": 14,
   "id": "c808f315",
   "metadata": {},
   "outputs": [
    {
     "name": "stdout",
     "output_type": "stream",
     "text": [
      "14.636363636363637 15.363636363636363\n"
     ]
    }
   ],
   "source": [
    "print(group_1.mean(), group_2.mean())"
   ]
  },
  {
   "cell_type": "markdown",
   "id": "bdbe66c5",
   "metadata": {},
   "source": [
    "## Independenant\n",
    "\n",
    "We need to perform a two-sample t-test."
   ]
  },
  {
   "cell_type": "code",
   "execution_count": 15,
   "id": "f273ebb6",
   "metadata": {},
   "outputs": [
    {
     "data": {
      "text/plain": [
       "Ttest_indResult(statistic=-0.5637158601662531, pvalue=0.5792141749025015)"
      ]
     },
     "execution_count": 15,
     "metadata": {},
     "output_type": "execute_result"
    }
   ],
   "source": [
    "#perform the two sample ttest wit equeal variance\n",
    "\n",
    "stats.ttest_ind(a=group_1, b=group_2, equal_var=True)"
   ]
  },
  {
   "cell_type": "code",
   "execution_count": 16,
   "id": "7aae425f",
   "metadata": {},
   "outputs": [
    {
     "data": {
      "text/plain": [
       "Ttest_indResult(statistic=-0.5637158601662531, pvalue=0.5793808870851078)"
      ]
     },
     "execution_count": 16,
     "metadata": {},
     "output_type": "execute_result"
    }
   ],
   "source": [
    "#Perform the test without equal variance\n",
    "stats.ttest_ind(a=group_1, b=group_2, equal_var=False)"
   ]
  },
  {
   "cell_type": "markdown",
   "id": "45e827d5",
   "metadata": {},
   "source": [
    "# Dependant (Paired Test)\n",
    "\n",
    "Depenedant variabels may have two samples however these samples represent two measurements of the sample.\n",
    "\n",
    "In order to test for dependant samples:"
   ]
  },
  {
   "cell_type": "code",
   "execution_count": 17,
   "id": "3a1943ca",
   "metadata": {},
   "outputs": [
    {
     "data": {
      "text/plain": [
       "Ttest_relResult(statistic=-1.2344267996967355, pvalue=0.24526500073077734)"
      ]
     },
     "execution_count": 17,
     "metadata": {},
     "output_type": "execute_result"
    }
   ],
   "source": [
    "#in order to perform the Paired test\n",
    "stats.ttest_rel(group_1, group_2)"
   ]
  },
  {
   "cell_type": "code",
   "execution_count": null,
   "id": "9bf81057",
   "metadata": {},
   "outputs": [],
   "source": []
  },
  {
   "cell_type": "code",
   "execution_count": null,
   "id": "ec42e62c",
   "metadata": {},
   "outputs": [],
   "source": []
  },
  {
   "cell_type": "code",
   "execution_count": null,
   "id": "0c5b230c",
   "metadata": {},
   "outputs": [],
   "source": []
  }
 ],
 "metadata": {
  "kernelspec": {
   "display_name": "Python 3 (ipykernel)",
   "language": "python",
   "name": "python3"
  },
  "language_info": {
   "codemirror_mode": {
    "name": "ipython",
    "version": 3
   },
   "file_extension": ".py",
   "mimetype": "text/x-python",
   "name": "python",
   "nbconvert_exporter": "python",
   "pygments_lexer": "ipython3",
   "version": "3.11.4"
  }
 },
 "nbformat": 4,
 "nbformat_minor": 5
}
